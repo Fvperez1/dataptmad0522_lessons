{
 "cells": [
  {
   "cell_type": "markdown",
   "id": "edbd153f",
   "metadata": {},
   "source": [
    "# Programming Paradigms\n",
    "---"
   ]
  },
  {
   "cell_type": "markdown",
   "id": "a188f917",
   "metadata": {},
   "source": [
    "> ### Procedural\n",
    "\n",
    "- Write sequential series of execution steps/tasks\n",
    "\n",
    "- \"Top to bottom\" code execution\n",
    "\n",
    "> ### Functional\n",
    "\n",
    "- Organize code in functions with clearly defined tasks\n",
    "\n",
    "- Pass data around via parameters\n",
    "\n",
    "> ### Object-oriented*\n",
    "\n",
    "- Organize data and logic in objects (properties and methods)\n",
    "\n",
    "- Organize code in logical entities"
   ]
  },
  {
   "cell_type": "markdown",
   "id": "33666ce3",
   "metadata": {},
   "source": [
    "---"
   ]
  },
  {
   "cell_type": "code",
   "execution_count": 1,
   "id": "0597716d",
   "metadata": {},
   "outputs": [],
   "source": [
    "# Data\n",
    "\n",
    "female_students = ['anDrea', 'IreNE', 'IZAS', 'MaLVa', 'silvia', 'SONia']\n",
    "\n",
    "male_students = ['AlBERTO' , 'AlvarO', 'DaRIo', 'GERVAsio', 'GoN', 'IVAN', 'Jorge', 'MereLLo', \n",
    "                 'Mesas', 'MohaMED Salah', ' Montes ', 'Nels0n', 'Pablo A Secas', 'SantiAGO', 'joSete', 'TONi']"
   ]
  },
  {
   "cell_type": "code",
   "execution_count": 2,
   "id": "09d391c0",
   "metadata": {},
   "outputs": [
    {
     "name": "stdout",
     "output_type": "stream",
     "text": [
      "Please, enter a new value: Montes\n",
      "Please, enter a new value: Nelson\n",
      "['Montes', 'Irene', 'Izaskun', 'Nelson', 'Silvia', 'Sonia']\n"
     ]
    }
   ],
   "source": [
    "# Procedural\n",
    "\n",
    "new_value = input('Please, enter a new value: ') \n",
    "female_students[0] = new_value\n",
    "\n",
    "female_students[1] = female_students[1].capitalize()\n",
    "\n",
    "female_students[2] = 'Izaskun'\n",
    "\n",
    "new_value = input('Please, enter a new value: ') \n",
    "\n",
    "female_students[3] = new_value\n",
    "female_students[4] = female_students[4].capitalize()\n",
    "\n",
    "female_students[5] = 'Sonia'\n",
    "\n",
    "print(female_students)"
   ]
  },
  {
   "cell_type": "code",
   "execution_count": 3,
   "id": "bafdd708",
   "metadata": {},
   "outputs": [],
   "source": [
    "# Functional\n",
    "\n",
    "def replace_value(item_list, item_pos):\n",
    "    new_value = input('Please, enter a new value: ')\n",
    "    item_list[item_pos] = new_value\n",
    "    return f'You have changed the item at the position {item_pos} of the list'"
   ]
  },
  {
   "cell_type": "code",
   "execution_count": 4,
   "id": "a992460e",
   "metadata": {},
   "outputs": [
    {
     "name": "stdout",
     "output_type": "stream",
     "text": [
      "Please, enter a new value: Ana\n",
      "['Ana', 'Irene', 'Izaskun', 'Nelson', 'Silvia', 'Sonia']\n"
     ]
    }
   ],
   "source": [
    "replace_value(female_students, 0)\n",
    "print(female_students)"
   ]
  },
  {
   "cell_type": "code",
   "execution_count": 26,
   "id": "12d363de",
   "metadata": {},
   "outputs": [],
   "source": [
    "pepe = ['Ana', 'Fran', 'Angel']\n",
    "paco = 1"
   ]
  },
  {
   "cell_type": "code",
   "execution_count": 27,
   "id": "27d39b2b",
   "metadata": {},
   "outputs": [
    {
     "name": "stdout",
     "output_type": "stream",
     "text": [
      "Please, enter a new value: 58\n"
     ]
    },
    {
     "data": {
      "text/plain": [
       "'You have changed the item at the position 1 of the list'"
      ]
     },
     "execution_count": 27,
     "metadata": {},
     "output_type": "execute_result"
    }
   ],
   "source": [
    "replace_value(pepe, paco)"
   ]
  },
  {
   "cell_type": "code",
   "execution_count": 28,
   "id": "d8175188",
   "metadata": {},
   "outputs": [
    {
     "data": {
      "text/plain": [
       "['Ana', '58', 'Angel']"
      ]
     },
     "execution_count": 28,
     "metadata": {},
     "output_type": "execute_result"
    }
   ],
   "source": [
    "pepe"
   ]
  },
  {
   "cell_type": "code",
   "execution_count": 29,
   "id": "5314c1ff",
   "metadata": {},
   "outputs": [],
   "source": [
    "def svenska_namn(item_list, item_pos):\n",
    "    svenska_namn = item_list[item_pos]\n",
    "    return f'{svenska_namn}son'"
   ]
  },
  {
   "cell_type": "code",
   "execution_count": 31,
   "id": "54462c47",
   "metadata": {},
   "outputs": [
    {
     "data": {
      "text/plain": [
       "['Anason', '58son', 'Angelson']"
      ]
     },
     "execution_count": 31,
     "metadata": {},
     "output_type": "execute_result"
    }
   ],
   "source": [
    "[svenska_namn(pepe, item) for item in range(len(pepe))]"
   ]
  },
  {
   "cell_type": "code",
   "execution_count": 43,
   "id": "b20468b0",
   "metadata": {},
   "outputs": [],
   "source": [
    "def funcion(z):\n",
    "    x = 1\n",
    "    y = 2\n",
    "    z = x * y\n",
    "    print(z)\n",
    "    return z"
   ]
  },
  {
   "cell_type": "code",
   "execution_count": 53,
   "id": "f3a6b2e1",
   "metadata": {},
   "outputs": [],
   "source": [
    "def funcion_bien(x, y):\n",
    "    print('Hola Angel')\n",
    "    return x * y\n"
   ]
  },
  {
   "cell_type": "code",
   "execution_count": 54,
   "id": "e1b797c8",
   "metadata": {},
   "outputs": [
    {
     "name": "stdout",
     "output_type": "stream",
     "text": [
      "Hola Angel\n",
      "2\n"
     ]
    }
   ],
   "source": [
    "x = funcion_bien(1,2)\n",
    "print(x)"
   ]
  },
  {
   "cell_type": "code",
   "execution_count": 42,
   "id": "9f836520",
   "metadata": {},
   "outputs": [
    {
     "name": "stdout",
     "output_type": "stream",
     "text": [
      "2\n"
     ]
    },
    {
     "data": {
      "text/plain": [
       "2"
      ]
     },
     "execution_count": 42,
     "metadata": {},
     "output_type": "execute_result"
    }
   ],
   "source": [
    "x = 1\n",
    "y = 2\n",
    "z = x * y\n",
    "print(z)\n",
    "print(z)"
   ]
  },
  {
   "cell_type": "code",
   "execution_count": 37,
   "id": "507f6ae2",
   "metadata": {},
   "outputs": [
    {
     "name": "stdout",
     "output_type": "stream",
     "text": [
      "None\n"
     ]
    }
   ],
   "source": [
    "print(x)"
   ]
  },
  {
   "cell_type": "markdown",
   "id": "3c91e180",
   "metadata": {},
   "source": [
    "---"
   ]
  },
  {
   "cell_type": "markdown",
   "id": "5598d6b8",
   "metadata": {},
   "source": [
    "__Some considerations__"
   ]
  },
  {
   "cell_type": "code",
   "execution_count": 57,
   "id": "4ea373c5",
   "metadata": {},
   "outputs": [],
   "source": [
    "# Global vs. Local variables\n",
    "\n",
    "a = 1\n",
    "\n",
    "def sum_function_global(b):\n",
    "    global a   # bad idea...\n",
    "    a = a + b\n",
    "    return a"
   ]
  },
  {
   "cell_type": "code",
   "execution_count": 58,
   "id": "83cf3704",
   "metadata": {},
   "outputs": [
    {
     "data": {
      "text/plain": [
       "9"
      ]
     },
     "execution_count": 58,
     "metadata": {},
     "output_type": "execute_result"
    }
   ],
   "source": [
    "sum_function_global(8)"
   ]
  },
  {
   "cell_type": "code",
   "execution_count": 59,
   "id": "c153d64a",
   "metadata": {},
   "outputs": [],
   "source": [
    "a = 1\n",
    "\n",
    "def sum_function_local(b):\n",
    "    c = a + b\n",
    "    return c"
   ]
  },
  {
   "cell_type": "code",
   "execution_count": 68,
   "id": "df62ea7e",
   "metadata": {},
   "outputs": [],
   "source": [
    "b = sum_function_local(8)"
   ]
  },
  {
   "cell_type": "code",
   "execution_count": 69,
   "id": "012d380a",
   "metadata": {
    "scrolled": true
   },
   "outputs": [
    {
     "name": "stdout",
     "output_type": "stream",
     "text": [
      "9\n"
     ]
    }
   ],
   "source": [
    "print(c)"
   ]
  },
  {
   "cell_type": "markdown",
   "id": "f46eec45",
   "metadata": {},
   "source": [
    "---"
   ]
  },
  {
   "cell_type": "code",
   "execution_count": 110,
   "id": "06857471",
   "metadata": {},
   "outputs": [],
   "source": [
    "# Mutability\n",
    "\n",
    "import random\n",
    "\n",
    "a = []\n",
    "\n",
    "def append_random(l=[3, 4, 5]):\n",
    "    print(a)\n",
    "    random_int = random.randint(1, 20)\n",
    "    l.append(random_int)\n",
    "    print(l)\n",
    "    print('be careful with mutability and default arguments')"
   ]
  },
  {
   "cell_type": "code",
   "execution_count": 129,
   "id": "1f4a0d2b",
   "metadata": {},
   "outputs": [
    {
     "name": "stdout",
     "output_type": "stream",
     "text": [
      "[]\n",
      "[3, 4, 5, 6, 2, 6, 14, 20, 3, 14, 8, 15, 20, 11, 8, 1, 7, 16, 10, 12, 14, 18]\n",
      "be careful with mutability and default arguments\n"
     ]
    }
   ],
   "source": [
    "append_random()"
   ]
  },
  {
   "cell_type": "markdown",
   "id": "80e10bc6",
   "metadata": {},
   "source": [
    "---"
   ]
  },
  {
   "cell_type": "code",
   "execution_count": 137,
   "id": "0888352b",
   "metadata": {},
   "outputs": [],
   "source": [
    "# Undefined arguments (*args)\n",
    "\n",
    "def name_cleaner(*pepe):\n",
    "    return [name.capitalize() for name in pepe]"
   ]
  },
  {
   "cell_type": "code",
   "execution_count": 138,
   "id": "eb4c8981",
   "metadata": {},
   "outputs": [
    {
     "data": {
      "text/plain": [
       "['Adja', 'Pablo', 'Trump', 'Halima', 'Elvira', 'Pedro']"
      ]
     },
     "execution_count": 138,
     "metadata": {},
     "output_type": "execute_result"
    }
   ],
   "source": [
    "name_cleaner('aDJA', 'PABLO', 'TRump', 'Halima', 'Elvira', 'Pedro')"
   ]
  },
  {
   "cell_type": "code",
   "execution_count": 139,
   "id": "8521d0f9",
   "metadata": {},
   "outputs": [
    {
     "data": {
      "text/plain": [
       "['Adja', 'Pablo', 'Trump']"
      ]
     },
     "execution_count": 139,
     "metadata": {},
     "output_type": "execute_result"
    }
   ],
   "source": [
    "name_lst = ['aDJA', 'PABLO', 'TRump']\n",
    "name_cleaner(*name_lst)"
   ]
  },
  {
   "cell_type": "markdown",
   "id": "c2a9acbb",
   "metadata": {},
   "source": [
    "---"
   ]
  },
  {
   "cell_type": "code",
   "execution_count": 142,
   "id": "083aed69",
   "metadata": {},
   "outputs": [],
   "source": [
    "# Undefined arguments with key (**kwargs)\n",
    "\n",
    "def fullname_cleaner(**parametro):\n",
    "    return parametro"
   ]
  },
  {
   "cell_type": "code",
   "execution_count": 144,
   "id": "6078505b",
   "metadata": {},
   "outputs": [
    {
     "data": {
      "text/plain": [
       "{'name': 'Napoleon',\n",
       " 'surname': 'Bonaparte',\n",
       " 'laflasnñlfansdlfnas': 6516161681,\n",
       " 'iadasdnmsand': 'ya es tarde'}"
      ]
     },
     "execution_count": 144,
     "metadata": {},
     "output_type": "execute_result"
    }
   ],
   "source": [
    "fullname_cleaner(name='Napoleon', surname='Bonaparte', laflasnñlfansdlfnas=6516161681, iadasdnmsand='ya es tarde')"
   ]
  },
  {
   "cell_type": "code",
   "execution_count": 145,
   "id": "e4bffd43",
   "metadata": {},
   "outputs": [
    {
     "data": {
      "text/plain": [
       "{'names': ['Gengis', 'Clint', 'Marlon'],\n",
       " 'surnames': ['Kahn', 'Eastwood', 'Brando']}"
      ]
     },
     "execution_count": 145,
     "metadata": {},
     "output_type": "execute_result"
    }
   ],
   "source": [
    "fullname_cleaner(names=['Gengis', 'Clint', 'Marlon'], surnames=['Kahn', 'Eastwood', 'Brando'])"
   ]
  },
  {
   "cell_type": "code",
   "execution_count": 146,
   "id": "9c688d9c",
   "metadata": {},
   "outputs": [],
   "source": [
    "def fullname_cleaner(**kwargs):\n",
    "    clean_name = kwargs['name'].capitalize()\n",
    "    clean_surname = kwargs['surname'].capitalize()\n",
    "    return f'{clean_name} {clean_surname}'"
   ]
  },
  {
   "cell_type": "code",
   "execution_count": 147,
   "id": "76bf6f59",
   "metadata": {},
   "outputs": [
    {
     "data": {
      "text/plain": [
       "'Donald Trump'"
      ]
     },
     "execution_count": 147,
     "metadata": {},
     "output_type": "execute_result"
    }
   ],
   "source": [
    "fullname_cleaner(name='dONALD', surname='TRUMP')"
   ]
  },
  {
   "cell_type": "markdown",
   "id": "ded39dfa",
   "metadata": {},
   "source": [
    "__OOP for the next episode...__"
   ]
  }
 ],
 "metadata": {
  "kernelspec": {
   "display_name": "Python [conda env:.conda-ironhack]",
   "language": "python",
   "name": "conda-env-.conda-ironhack-py"
  },
  "language_info": {
   "codemirror_mode": {
    "name": "ipython",
    "version": 3
   },
   "file_extension": ".py",
   "mimetype": "text/x-python",
   "name": "python",
   "nbconvert_exporter": "python",
   "pygments_lexer": "ipython3",
   "version": "3.7.11"
  }
 },
 "nbformat": 4,
 "nbformat_minor": 5
}
