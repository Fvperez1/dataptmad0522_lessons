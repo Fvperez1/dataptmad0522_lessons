{
 "cells": [
  {
   "cell_type": "markdown",
   "id": "053c3aae",
   "metadata": {},
   "source": [
    "# List Comprehension"
   ]
  },
  {
   "cell_type": "code",
   "execution_count": null,
   "id": "23480d2d",
   "metadata": {},
   "outputs": [],
   "source": [
    "%%time\n",
    "\n",
    "# for loop\n",
    "\n",
    "lst = []\n",
    "for i in range(100000000):\n",
    "    lst.append(i*i)\n",
    "#print(lst)"
   ]
  },
  {
   "cell_type": "code",
   "execution_count": null,
   "id": "96a75281",
   "metadata": {},
   "outputs": [],
   "source": [
    "%%time\n",
    "\n",
    "lst = [i*i for i in range(100000000)]\n",
    "#print(lst)"
   ]
  },
  {
   "cell_type": "code",
   "execution_count": null,
   "id": "f7eaa35c",
   "metadata": {},
   "outputs": [],
   "source": [
    "item_lst = ['name', 'Surname', 'pHone', 'EMAIL', 'CiTy']\n",
    "print(item_lst)\n",
    "list_2 = [i.lower() for i in item_lst]\n",
    "print(list_2)"
   ]
  },
  {
   "cell_type": "code",
   "execution_count": null,
   "id": "d6cc540a",
   "metadata": {},
   "outputs": [],
   "source": [
    "# for loop\n",
    "\n",
    "item_lst = ['name', 'Surname', 'pHone', 'EMAIL', 'CiTy']\n",
    "#item_lst = []\n",
    "for i in range(len(item_lst)):\n",
    "    item_lst[i] = item_lst[i].lower()"
   ]
  },
  {
   "cell_type": "code",
   "execution_count": null,
   "id": "caea9378",
   "metadata": {},
   "outputs": [],
   "source": [
    "item_lst"
   ]
  },
  {
   "cell_type": "code",
   "execution_count": null,
   "id": "2b313f05",
   "metadata": {},
   "outputs": [],
   "source": [
    "list_2"
   ]
  },
  {
   "cell_type": "markdown",
   "id": "9c63e0b6",
   "metadata": {},
   "source": [
    "__Adding Conditions to List Comprehensions__"
   ]
  },
  {
   "cell_type": "code",
   "execution_count": null,
   "id": "415182c7",
   "metadata": {},
   "outputs": [],
   "source": [
    "lst = [i for i in range(20) if i >= 5]\n",
    "print(lst)"
   ]
  },
  {
   "cell_type": "code",
   "execution_count": null,
   "id": "72959a1d",
   "metadata": {},
   "outputs": [],
   "source": [
    "var = range(20)\n",
    "print(type(var))\n",
    "print(var)\n",
    "print(list(var))"
   ]
  },
  {
   "cell_type": "code",
   "execution_count": null,
   "id": "daeb99bb",
   "metadata": {},
   "outputs": [],
   "source": [
    "# for loop\n",
    "\n",
    "lista_vacia = []\n",
    "for i in range(20):\n",
    "    if i >= 5:\n",
    "        lista_vacia.append(i)\n",
    "        \n",
    "lista_vacia"
   ]
  },
  {
   "cell_type": "markdown",
   "id": "779c4588",
   "metadata": {},
   "source": [
    "__Multiple For-Loops in List Comprehensions__"
   ]
  },
  {
   "cell_type": "code",
   "execution_count": null,
   "id": "ff685a20",
   "metadata": {},
   "outputs": [],
   "source": [
    "# Flatten a list of lists\n",
    "\n",
    "lst_lst = [[1,2,3], [4,5,6], [7,8,9]]\n",
    "#print(lst_lst)\n",
    "\n",
    "lst = []\n",
    "for x in lst_lst:\n",
    "    print(x)\n",
    "    for y in x:\n",
    "        print(y)\n",
    "        lst.append(y)\n",
    "\n",
    "        \n",
    "print(lst)"
   ]
  },
  {
   "cell_type": "code",
   "execution_count": 2,
   "id": "62205f51",
   "metadata": {},
   "outputs": [
    {
     "ename": "NameError",
     "evalue": "name 'x' is not defined",
     "output_type": "error",
     "traceback": [
      "\u001b[1;31m---------------------------------------------------------------------------\u001b[0m",
      "\u001b[1;31mNameError\u001b[0m                                 Traceback (most recent call last)",
      "\u001b[1;32m~\\AppData\\Local\\Temp/ipykernel_20056/1353120783.py\u001b[0m in \u001b[0;36m<module>\u001b[1;34m\u001b[0m\n\u001b[1;32m----> 1\u001b[1;33m \u001b[0mprint\u001b[0m\u001b[1;33m(\u001b[0m\u001b[0mx\u001b[0m\u001b[1;33m)\u001b[0m\u001b[1;33m\u001b[0m\u001b[1;33m\u001b[0m\u001b[0m\n\u001b[0m",
      "\u001b[1;31mNameError\u001b[0m: name 'x' is not defined"
     ]
    }
   ],
   "source": [
    "print(x)"
   ]
  },
  {
   "cell_type": "code",
   "execution_count": 23,
   "id": "1a6932aa",
   "metadata": {},
   "outputs": [
    {
     "data": {
      "text/plain": [
       "[1, 2, 3, 4, 5, 6, 7, 8, 9]"
      ]
     },
     "execution_count": 23,
     "metadata": {},
     "output_type": "execute_result"
    }
   ],
   "source": [
    "# list comprehension\n",
    "\n",
    "lst_lst = [[1,2,3], [4,5,6], [7,8,9]]\n",
    "list_comprehension = [y for x in lst_lst for y in x]\n",
    "list_comprehension"
   ]
  },
  {
   "cell_type": "code",
   "execution_count": null,
   "id": "43988ab8",
   "metadata": {},
   "outputs": [],
   "source": []
  },
  {
   "cell_type": "code",
   "execution_count": null,
   "id": "a6e845ba",
   "metadata": {},
   "outputs": [],
   "source": []
  },
  {
   "cell_type": "code",
   "execution_count": null,
   "id": "a478fed7",
   "metadata": {},
   "outputs": [],
   "source": []
  },
  {
   "cell_type": "code",
   "execution_count": null,
   "id": "7d30d124",
   "metadata": {},
   "outputs": [],
   "source": []
  },
  {
   "cell_type": "markdown",
   "id": "2fda2020",
   "metadata": {},
   "source": [
    "__Multiple For-Loops in List Comprehensions and Conditions__"
   ]
  },
  {
   "cell_type": "code",
   "execution_count": 24,
   "id": "077dfd44",
   "metadata": {},
   "outputs": [
    {
     "name": "stdout",
     "output_type": "stream",
     "text": [
      "[6, 8, 10]\n"
     ]
    }
   ],
   "source": [
    "lst_lst = [[1,2,3,4,5], [6,7,8], [9,10]]\n",
    "lst = [y for x in lst_lst if len(x) < 4 for y in x if y % 2 == 0]\n",
    "print(lst)"
   ]
  },
  {
   "cell_type": "code",
   "execution_count": 25,
   "id": "840e4c78",
   "metadata": {},
   "outputs": [
    {
     "data": {
      "text/plain": [
       "[6, 8, 10]"
      ]
     },
     "execution_count": 25,
     "metadata": {},
     "output_type": "execute_result"
    }
   ],
   "source": [
    "# for loop\n",
    "\n",
    "lista_vacia = []\n",
    "for x in lst_lst:\n",
    "    if len(x) < 4:\n",
    "        for y in x:\n",
    "            if y % 2 == 0:\n",
    "                lista_vacia.append(y)\n",
    "                \n",
    "lista_vacia"
   ]
  },
  {
   "cell_type": "markdown",
   "id": "18ef373e",
   "metadata": {},
   "source": [
    "__Recap: Matrix Example__"
   ]
  },
  {
   "cell_type": "code",
   "execution_count": 35,
   "id": "d1712b71",
   "metadata": {
    "scrolled": true
   },
   "outputs": [],
   "source": [
    "transposed_matrix = []\n",
    "matrix = [[1, 2, 3, 4], [4, 5, 6, 8]]\n",
    "for i in range(len(matrix[1])): # [0,1,2,3]\n",
    "    transposed_row = []\n",
    "    for row in matrix: # [1, 2, 3, 4] + [4, 5, 6, 8]\n",
    "        #print(i, '---', row, '---', row[i])\n",
    "        transposed_row.append(row[i])\n",
    "    transposed_matrix.append(transposed_row)\n",
    "#print(transposed_matrix)"
   ]
  },
  {
   "cell_type": "code",
   "execution_count": 36,
   "id": "0e7545a4",
   "metadata": {},
   "outputs": [
    {
     "data": {
      "text/plain": [
       "[[1, 4], [2, 5], [3, 6], [4, 8]]"
      ]
     },
     "execution_count": 36,
     "metadata": {},
     "output_type": "execute_result"
    }
   ],
   "source": [
    "transposed_matrix"
   ]
  },
  {
   "cell_type": "code",
   "execution_count": null,
   "id": "917ef4f8",
   "metadata": {},
   "outputs": [],
   "source": [
    "matrix = [[1, 2, 3, 4], [4, 5, 6, 8]]\n",
    "transposed_matrix = [[row[i] for row in matrix] for i in range(len(matrix[0]))]\n",
    "transposed_matrix"
   ]
  },
  {
   "cell_type": "markdown",
   "id": "4c438bb0",
   "metadata": {},
   "source": [
    "__Practical Uses for List Comprehensions__"
   ]
  },
  {
   "cell_type": "code",
   "execution_count": 37,
   "id": "c158a1d1",
   "metadata": {},
   "outputs": [],
   "source": [
    "my_lst_lst = [[\"let's\", \"take\"], [\"a\", \"break\", \"of\"], {'amount': [5, 10, 15], 'units': ['seconds', 'minutes'] }]"
   ]
  },
  {
   "cell_type": "code",
   "execution_count": 38,
   "id": "6318bb1b",
   "metadata": {},
   "outputs": [
    {
     "data": {
      "text/plain": [
       "3"
      ]
     },
     "execution_count": 38,
     "metadata": {},
     "output_type": "execute_result"
    }
   ],
   "source": [
    "len(my_lst_lst)"
   ]
  },
  {
   "cell_type": "code",
   "execution_count": 41,
   "id": "cdfdc47a",
   "metadata": {},
   "outputs": [
    {
     "name": "stdout",
     "output_type": "stream",
     "text": [
      "[\"LET'S\", 'TAKE', 'A', 'BREAK', 'OF']\n",
      "LET'S TAKE A BREAK OF: 15 minutes\n"
     ]
    }
   ],
   "source": [
    "my_message = list(map(lambda word: word.upper(), [word for lst in my_lst_lst[:2] for word in lst]))\n",
    "print(my_message)\n",
    "print(f\"{(' '.join(my_message))}: {my_lst_lst[2]['amount'][2]} {my_lst_lst[2]['units'][1]}\")"
   ]
  },
  {
   "cell_type": "markdown",
   "id": "983d844a",
   "metadata": {},
   "source": [
    "__Worth reading:__\n",
    "\n",
    "- https://medium.com/techtofreedom/8-levels-of-using-list-comprehension-in-python-efc3c339a1f0\n",
    "\n",
    "- https://betterprogramming.pub/3-misuses-of-python-list-comprehension-to-avoid-54adc312e48c\n"
   ]
  }
 ],
 "metadata": {
  "kernelspec": {
   "display_name": "Python [conda env:.conda-ironhack]",
   "language": "python",
   "name": "conda-env-.conda-ironhack-py"
  },
  "language_info": {
   "codemirror_mode": {
    "name": "ipython",
    "version": 3
   },
   "file_extension": ".py",
   "mimetype": "text/x-python",
   "name": "python",
   "nbconvert_exporter": "python",
   "pygments_lexer": "ipython3",
   "version": "3.7.11"
  }
 },
 "nbformat": 4,
 "nbformat_minor": 5
}
