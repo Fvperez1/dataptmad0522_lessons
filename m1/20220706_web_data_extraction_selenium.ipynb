{
 "cells": [
  {
   "cell_type": "markdown",
   "id": "fcaffe0f",
   "metadata": {},
   "source": [
    "# Web Data Extraction - Selenium\n",
    "\n",
    "Selenium is an umbrella project for a range of tools and libraries that enable and support the automation of web browsers.\n",
    "\n",
    "- [Official Documentation](https://www.selenium.dev/documentation/)\n",
    "\n",
    "- [Unofficial Documentation](https://selenium-python.readthedocs.io/index.html)"
   ]
  },
  {
   "cell_type": "code",
   "execution_count": 1,
   "id": "d63418a5",
   "metadata": {},
   "outputs": [],
   "source": [
    "import random\n",
    "import time\n",
    "import pandas as pd\n",
    "\n",
    "import requests\n",
    "import bs4\n",
    "\n",
    "from selenium import webdriver\n",
    "from selenium.webdriver.common.by import By\n",
    "from selenium.webdriver.chrome.service import Service"
   ]
  },
  {
   "cell_type": "markdown",
   "id": "c2112c4a",
   "metadata": {},
   "source": [
    "### [WebDriver](https://www.selenium.dev/documentation/webdriver/)\n",
    "\n",
    "Responsible for controlling the actual browser. Most drivers are created by the browser vendors themselves. Drivers are generally executable modules that run on the system with the browser itself, not on the system executing the test suite.\n",
    "\n",
    "\n",
    "[Install browser drivers](https://www.selenium.dev/documentation/webdriver/getting_started/install_drivers/)"
   ]
  },
  {
   "cell_type": "code",
   "execution_count": 2,
   "id": "82368075",
   "metadata": {},
   "outputs": [
    {
     "data": {
      "text/plain": [
       "selenium.webdriver.chrome.webdriver.WebDriver"
      ]
     },
     "execution_count": 2,
     "metadata": {},
     "output_type": "execute_result"
    }
   ],
   "source": [
    "path = './requirements/chromedriver.exe'\n",
    "service = Service(executable_path=path)\n",
    "driver = webdriver.Chrome(service=service)\n",
    "type(driver)"
   ]
  },
  {
   "cell_type": "markdown",
   "id": "062c1c20",
   "metadata": {},
   "source": [
    "### [Browser info & actions](https://www.selenium.dev/documentation/webdriver/browser/)\n",
    "\n",
    "You can get brower info and interact with it (i.e.: navigation, alerts, cookies, frames, windows)"
   ]
  },
  {
   "cell_type": "code",
   "execution_count": 3,
   "id": "805320cd",
   "metadata": {},
   "outputs": [],
   "source": [
    "# Navigate to...\n",
    "\n",
    "driver.get('https://toogoodtogo.es/es/blog')\n",
    "driver.maximize_window()"
   ]
  },
  {
   "cell_type": "code",
   "execution_count": 4,
   "id": "2b7d834e",
   "metadata": {},
   "outputs": [
    {
     "name": "stdout",
     "output_type": "stream",
     "text": [
      "Blog | Too Good To Go\n",
      "https://toogoodtogo.es/es/blog\n"
     ]
    }
   ],
   "source": [
    "# Browser info\n",
    "\n",
    "print(driver.title)\n",
    "print(driver.current_url)"
   ]
  },
  {
   "cell_type": "code",
   "execution_count": 5,
   "id": "78fc7ebe",
   "metadata": {},
   "outputs": [
    {
     "name": "stdout",
     "output_type": "stream",
     "text": [
      "[{'domain': 'toogoodtogo.es', 'httpOnly': False, 'name': 'time_stamp', 'path': '/', 'secure': False, 'value': '1657130501695'}, {'domain': 'toogoodtogo.es', 'httpOnly': False, 'name': 'accepted_localizations', 'path': '/es', 'secure': False, 'value': '%5B%22es%22%5D'}, {'domain': 'toogoodtogo.es', 'httpOnly': False, 'name': 'localization_code', 'path': '/es', 'secure': False, 'value': 'es'}, {'domain': 'toogoodtogo.es', 'httpOnly': False, 'name': 'country_code', 'path': '/es', 'secure': False, 'value': 'es'}]\n"
     ]
    }
   ],
   "source": [
    "# Cookies\n",
    "\n",
    "print(driver.get_cookies())"
   ]
  },
  {
   "cell_type": "markdown",
   "id": "382aff79",
   "metadata": {},
   "source": [
    "### [Web elements](https://www.selenium.dev/documentation/webdriver/elements/)\n",
    "\n",
    "You can find, interact and extract info from web elements"
   ]
  },
  {
   "cell_type": "code",
   "execution_count": 6,
   "id": "b2b477fa",
   "metadata": {},
   "outputs": [
    {
     "data": {
      "text/plain": [
       "<selenium.webdriver.remote.webelement.WebElement (session=\"03d0848e7def821ccbd2c19a4a4c7608\", element=\"aa8ba60b-c525-41af-a3c4-13def2b56f6d\")>"
      ]
     },
     "execution_count": 6,
     "metadata": {},
     "output_type": "execute_result"
    }
   ],
   "source": [
    "# Find cookies button\n",
    "\n",
    "cookie_button = driver.find_element(by=By.CLASS_NAME, value='coi-banner__decline')\n",
    "cookie_button"
   ]
  },
  {
   "cell_type": "code",
   "execution_count": 7,
   "id": "f1ef4b8d",
   "metadata": {},
   "outputs": [],
   "source": [
    "# Accept cookies\n",
    "\n",
    "cookie_button.click()"
   ]
  },
  {
   "cell_type": "code",
   "execution_count": 8,
   "id": "2b55b677",
   "metadata": {},
   "outputs": [],
   "source": [
    "# Find blog posts\n",
    "\n",
    "blog_posts = driver.find_elements(by=By.TAG_NAME, value='a')"
   ]
  },
  {
   "cell_type": "code",
   "execution_count": 9,
   "id": "cbfed7e1",
   "metadata": {},
   "outputs": [
    {
     "data": {
      "text/plain": [
       "225"
      ]
     },
     "execution_count": 9,
     "metadata": {},
     "output_type": "execute_result"
    }
   ],
   "source": [
    "len(blog_posts)"
   ]
  },
  {
   "cell_type": "code",
   "execution_count": 10,
   "id": "11903473",
   "metadata": {},
   "outputs": [
    {
     "data": {
      "text/plain": [
       "['https://toogoodtogo.es/es/blog/tgtg-westfield',\n",
       " 'https://toogoodtogo.es/es/blog/ww-junio',\n",
       " 'https://toogoodtogo.es/es/blog/fruta-temporada',\n",
       " 'https://toogoodtogo.es/es/blog/tgtg-westfield',\n",
       " 'https://toogoodtogo.es/es/blog/ww-junio',\n",
       " 'https://toogoodtogo.es/es/blog/fruta-temporada',\n",
       " 'https://toogoodtogo.es/es/blog/sorteo-restaurante-coque',\n",
       " 'https://toogoodtogo.es/es/blog/chefs-contra-el-desperdicio',\n",
       " 'https://toogoodtogo.es/es/blog/pepa-munoz']"
      ]
     },
     "execution_count": 10,
     "metadata": {},
     "output_type": "execute_result"
    }
   ],
   "source": [
    "# Get info from post (e.g.: url)\n",
    "\n",
    "urls = [blog_posts[i].get_attribute('href') for i in range(len(blog_posts)) if 'blog/' in blog_posts[i].get_attribute('href')]\n",
    "urls"
   ]
  },
  {
   "cell_type": "markdown",
   "id": "d57ae0f9",
   "metadata": {},
   "source": [
    "#### Now the selenium magic!!!"
   ]
  },
  {
   "cell_type": "code",
   "execution_count": 11,
   "id": "5a5f435b",
   "metadata": {},
   "outputs": [],
   "source": [
    "# Click the \"Ver más\" button\n",
    "\n",
    "driver.find_elements(by=By.TAG_NAME, value=\"button\")[-1].click()"
   ]
  },
  {
   "cell_type": "code",
   "execution_count": 12,
   "id": "3b35be78",
   "metadata": {},
   "outputs": [
    {
     "data": {
      "text/plain": [
       "15"
      ]
     },
     "execution_count": 12,
     "metadata": {},
     "output_type": "execute_result"
    }
   ],
   "source": [
    "blog_posts = driver.find_elements(by=By.TAG_NAME, value='a')\n",
    "urls = [blog_posts[i].get_attribute('href') for i in range(len(blog_posts)) if 'blog/' in blog_posts[i].get_attribute('href')]\n",
    "len(urls)"
   ]
  },
  {
   "cell_type": "markdown",
   "id": "0de2adcc",
   "metadata": {},
   "source": [
    "---"
   ]
  },
  {
   "cell_type": "markdown",
   "id": "01ce4357",
   "metadata": {},
   "source": [
    "### Get al the posts that you need\n",
    "\n",
    "You may want to establish a [waiting strategy](https://www.selenium.dev/documentation/webdriver/waits/)"
   ]
  },
  {
   "cell_type": "code",
   "execution_count": 13,
   "id": "4880512f",
   "metadata": {},
   "outputs": [],
   "source": [
    "driver.implicitly_wait(10)"
   ]
  },
  {
   "cell_type": "code",
   "execution_count": 14,
   "id": "f73b2bd2",
   "metadata": {},
   "outputs": [
    {
     "name": "stdout",
     "output_type": "stream",
     "text": [
      "You have reached the total amount of clicks: 49\n",
      "Wall time: 2min 22s\n"
     ]
    }
   ],
   "source": [
    "%%time\n",
    "# Click the button as many times as you wish, but be careful because you can be banned!!!\n",
    "\n",
    "for click in range(100):\n",
    "    try:\n",
    "        driver.find_elements(by=By.TAG_NAME, value=\"button\")[-1].click()\n",
    "        secs = random.randint(1,4)\n",
    "        time.sleep(secs)\n",
    "    except:\n",
    "        print(f'You have reached the total amount of clicks: {click}')\n",
    "        break"
   ]
  },
  {
   "cell_type": "code",
   "execution_count": 15,
   "id": "cb708eb1",
   "metadata": {},
   "outputs": [
    {
     "name": "stdout",
     "output_type": "stream",
     "text": [
      "Wall time: 1min 17s\n"
     ]
    }
   ],
   "source": [
    "%%time\n",
    "# Get posts info\n",
    "\n",
    "blog_posts = driver.find_elements(by=By.TAG_NAME, value='a')\n",
    "\n",
    "posts = [blog_posts[i].text.split('\\n')[1] for i in range(len(blog_posts))\\\n",
    "         if '|' in blog_posts[i].text]\n",
    "\n",
    "urls = [blog_posts[i].get_attribute('href') for i in range(len(blog_posts))\\\n",
    "        if 'blog/' in blog_posts[i].get_attribute('href')]\n",
    "\n",
    "date = [blog_posts[i].text.split('\\n')[2].split(' | ')[0] for i in range(len(blog_posts))\\\n",
    "        if '|' in blog_posts[i].text]\n",
    "\n",
    "author = [blog_posts[i].text.split('\\n')[2].split(' | ')[1] for i in range(len(blog_posts))\\\n",
    "          if '|' in blog_posts[i].text]"
   ]
  },
  {
   "cell_type": "code",
   "execution_count": 16,
   "id": "0b2a308f",
   "metadata": {},
   "outputs": [
    {
     "data": {
      "text/html": [
       "<div>\n",
       "<style scoped>\n",
       "    .dataframe tbody tr th:only-of-type {\n",
       "        vertical-align: middle;\n",
       "    }\n",
       "\n",
       "    .dataframe tbody tr th {\n",
       "        vertical-align: top;\n",
       "    }\n",
       "\n",
       "    .dataframe thead th {\n",
       "        text-align: right;\n",
       "    }\n",
       "</style>\n",
       "<table border=\"1\" class=\"dataframe\">\n",
       "  <thead>\n",
       "    <tr style=\"text-align: right;\">\n",
       "      <th></th>\n",
       "      <th>Blog Posts</th>\n",
       "      <th>Links</th>\n",
       "      <th>Fecha</th>\n",
       "      <th>Autor</th>\n",
       "    </tr>\n",
       "  </thead>\n",
       "  <tbody>\n",
       "    <tr>\n",
       "      <th>0</th>\n",
       "      <td>TALLERES ANTI DESPERDICIO DE LA MANO DE URW</td>\n",
       "      <td>https://toogoodtogo.es/es/blog/tgtg-westfield</td>\n",
       "      <td>hace 2 días</td>\n",
       "      <td>Rocío Abella Ruiz</td>\n",
       "    </tr>\n",
       "    <tr>\n",
       "      <th>1</th>\n",
       "      <td>#WASTEWARRIORDELMES DE JUNIO 🍕</td>\n",
       "      <td>https://toogoodtogo.es/es/blog/ww-junio</td>\n",
       "      <td>hace 9 días</td>\n",
       "      <td>Elena Melchor</td>\n",
       "    </tr>\n",
       "    <tr>\n",
       "      <th>2</th>\n",
       "      <td>¿POR QUÉ ES IMPORTANTE CONSUMIR FRUTA Y VERDUR...</td>\n",
       "      <td>https://toogoodtogo.es/es/blog/fruta-temporada</td>\n",
       "      <td>hace 19 días</td>\n",
       "      <td>Gisela Casanovas</td>\n",
       "    </tr>\n",
       "    <tr>\n",
       "      <th>6</th>\n",
       "      <td>CONSIGUE UNA EXPERIENCIA 2 ESTRELLAS MICHELÍN ...</td>\n",
       "      <td>https://toogoodtogo.es/es/blog/sorteo-restaura...</td>\n",
       "      <td>hace 22 días</td>\n",
       "      <td>Lorena Diaz-Santos</td>\n",
       "    </tr>\n",
       "    <tr>\n",
       "      <th>7</th>\n",
       "      <td>DESCUBRE LA SORPRESA DE PEPA MUÑOZ EN #CHEFSCO...</td>\n",
       "      <td>https://toogoodtogo.es/es/blog/chefs-contra-el...</td>\n",
       "      <td>hace un mes</td>\n",
       "      <td>Elena Melchor</td>\n",
       "    </tr>\n",
       "    <tr>\n",
       "      <th>...</th>\n",
       "      <td>...</td>\n",
       "      <td>...</td>\n",
       "      <td>...</td>\n",
       "      <td>...</td>\n",
       "    </tr>\n",
       "    <tr>\n",
       "      <th>303</th>\n",
       "      <td>LOS 5 REGALOS NAVIDEÑOS SOSTENIBLES</td>\n",
       "      <td>https://toogoodtogo.es/es/blog/regalos-naviden...</td>\n",
       "      <td>hace 4 años</td>\n",
       "      <td>Samuel Asenjo</td>\n",
       "    </tr>\n",
       "    <tr>\n",
       "      <th>304</th>\n",
       "      <td>GREEN FINDE: 2X1 EN TUS PACKS SALVADOS</td>\n",
       "      <td>https://toogoodtogo.es/es/blog/green-finde-2x1...</td>\n",
       "      <td>hace 4 años</td>\n",
       "      <td>Jonathan Zarzalejo</td>\n",
       "    </tr>\n",
       "    <tr>\n",
       "      <th>305</th>\n",
       "      <td>¡YA SOMOS MÁS DE 25.000 WASTE WARRIORS!</td>\n",
       "      <td>https://toogoodtogo.es/es/blog/ya-somos-mas-de...</td>\n",
       "      <td>hace 4 años</td>\n",
       "      <td>Jonathan Zarzalejo</td>\n",
       "    </tr>\n",
       "    <tr>\n",
       "      <th>306</th>\n",
       "      <td>¡SALVAR COMIDA TIENE PREMIO! #DÍAMUNDIALDELAAL...</td>\n",
       "      <td>https://toogoodtogo.es/es/blog/en-el-dia-mundi...</td>\n",
       "      <td>hace 4 años</td>\n",
       "      <td>Jonathan Zarzalejo</td>\n",
       "    </tr>\n",
       "    <tr>\n",
       "      <th>307</th>\n",
       "      <td>¿CÓMO UTILIZAR TOO GOOD TO GO?</td>\n",
       "      <td>https://toogoodtogo.es/es/blog/como-utilizar-t...</td>\n",
       "      <td>hace 4 años</td>\n",
       "      <td>Jonathan Zarzalejo</td>\n",
       "    </tr>\n",
       "  </tbody>\n",
       "</table>\n",
       "<p>305 rows × 4 columns</p>\n",
       "</div>"
      ],
      "text/plain": [
       "                                            Blog Posts  \\\n",
       "0          TALLERES ANTI DESPERDICIO DE LA MANO DE URW   \n",
       "1                       #WASTEWARRIORDELMES DE JUNIO 🍕   \n",
       "2    ¿POR QUÉ ES IMPORTANTE CONSUMIR FRUTA Y VERDUR...   \n",
       "6    CONSIGUE UNA EXPERIENCIA 2 ESTRELLAS MICHELÍN ...   \n",
       "7    DESCUBRE LA SORPRESA DE PEPA MUÑOZ EN #CHEFSCO...   \n",
       "..                                                 ...   \n",
       "303                LOS 5 REGALOS NAVIDEÑOS SOSTENIBLES   \n",
       "304             GREEN FINDE: 2X1 EN TUS PACKS SALVADOS   \n",
       "305            ¡YA SOMOS MÁS DE 25.000 WASTE WARRIORS!   \n",
       "306  ¡SALVAR COMIDA TIENE PREMIO! #DÍAMUNDIALDELAAL...   \n",
       "307                     ¿CÓMO UTILIZAR TOO GOOD TO GO?   \n",
       "\n",
       "                                                 Links         Fecha  \\\n",
       "0        https://toogoodtogo.es/es/blog/tgtg-westfield   hace 2 días   \n",
       "1              https://toogoodtogo.es/es/blog/ww-junio   hace 9 días   \n",
       "2       https://toogoodtogo.es/es/blog/fruta-temporada  hace 19 días   \n",
       "6    https://toogoodtogo.es/es/blog/sorteo-restaura...  hace 22 días   \n",
       "7    https://toogoodtogo.es/es/blog/chefs-contra-el...   hace un mes   \n",
       "..                                                 ...           ...   \n",
       "303  https://toogoodtogo.es/es/blog/regalos-naviden...   hace 4 años   \n",
       "304  https://toogoodtogo.es/es/blog/green-finde-2x1...   hace 4 años   \n",
       "305  https://toogoodtogo.es/es/blog/ya-somos-mas-de...   hace 4 años   \n",
       "306  https://toogoodtogo.es/es/blog/en-el-dia-mundi...   hace 4 años   \n",
       "307  https://toogoodtogo.es/es/blog/como-utilizar-t...   hace 4 años   \n",
       "\n",
       "                  Autor  \n",
       "0     Rocío Abella Ruiz  \n",
       "1         Elena Melchor  \n",
       "2      Gisela Casanovas  \n",
       "6    Lorena Diaz-Santos  \n",
       "7         Elena Melchor  \n",
       "..                  ...  \n",
       "303       Samuel Asenjo  \n",
       "304  Jonathan Zarzalejo  \n",
       "305  Jonathan Zarzalejo  \n",
       "306  Jonathan Zarzalejo  \n",
       "307  Jonathan Zarzalejo  \n",
       "\n",
       "[305 rows x 4 columns]"
      ]
     },
     "execution_count": 16,
     "metadata": {},
     "output_type": "execute_result"
    }
   ],
   "source": [
    "# Pandas!!!\n",
    "\n",
    "df = pd.DataFrame({'Blog Posts':posts,\n",
    "                   'Links':urls,\n",
    "                   'Fecha':date,\n",
    "                   'Autor':author}).drop_duplicates()\n",
    "\n",
    "df"
   ]
  },
  {
   "cell_type": "code",
   "execution_count": 17,
   "id": "f091eac4",
   "metadata": {},
   "outputs": [
    {
     "data": {
      "text/plain": [
       "array(['Rocío Abella Ruiz', 'Elena Melchor', 'Gisela Casanovas',\n",
       "       'Lorena Diaz-Santos', 'Marianne Costa', 'Helena Calvo',\n",
       "       'Carmen Huidobro', 'Jonathan Zarzalejo', 'Samuel Asenjo',\n",
       "       'Franziska Lienert', 'Tanja Andersen', 'Nora Di Cesare',\n",
       "       'Nicole van Brummelen', 'Laetitia Ramé', 'Carlos García'],\n",
       "      dtype=object)"
      ]
     },
     "execution_count": 17,
     "metadata": {},
     "output_type": "execute_result"
    }
   ],
   "source": [
    "df['Autor'].unique()"
   ]
  },
  {
   "cell_type": "markdown",
   "id": "76537159",
   "metadata": {},
   "source": [
    "### End the session\n",
    "\n",
    "This ends the driver process, which by default closes the browser as well. No more commands can be sent to this driver instance."
   ]
  },
  {
   "cell_type": "code",
   "execution_count": 18,
   "id": "9bb7039e",
   "metadata": {},
   "outputs": [],
   "source": [
    "driver.quit()"
   ]
  },
  {
   "cell_type": "markdown",
   "id": "14da6c17",
   "metadata": {},
   "source": [
    "### Lets build some robots!!!\n",
    "\n",
    "![robot](https://media.giphy.com/media/5YEgnkjeryvwA/giphy.gif)"
   ]
  }
 ],
 "metadata": {
  "kernelspec": {
   "display_name": "Python [conda env:.conda-ironhack]",
   "language": "python",
   "name": "conda-env-.conda-ironhack-py"
  },
  "language_info": {
   "codemirror_mode": {
    "name": "ipython",
    "version": 3
   },
   "file_extension": ".py",
   "mimetype": "text/x-python",
   "name": "python",
   "nbconvert_exporter": "python",
   "pygments_lexer": "ipython3",
   "version": "3.7.11"
  }
 },
 "nbformat": 4,
 "nbformat_minor": 5
}
