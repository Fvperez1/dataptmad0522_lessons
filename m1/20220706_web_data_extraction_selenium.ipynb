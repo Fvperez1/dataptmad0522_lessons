{
 "cells": [
  {
   "cell_type": "markdown",
   "id": "fcaffe0f",
   "metadata": {},
   "source": [
    "# Web Data Extraction - Selenium\n",
    "\n",
    "Selenium is an umbrella project for a range of tools and libraries that enable and support the automation of web browsers.\n",
    "\n",
    "- [Official Documentation](https://www.selenium.dev/documentation/)\n",
    "\n",
    "- [Unofficial Documentation](https://selenium-python.readthedocs.io/index.html)"
   ]
  },
  {
   "cell_type": "code",
   "execution_count": null,
   "id": "d63418a5",
   "metadata": {},
   "outputs": [],
   "source": [
    "import random\n",
    "import time\n",
    "import pandas as pd\n",
    "\n",
    "import requests\n",
    "import bs4\n",
    "\n",
    "from selenium import webdriver\n",
    "from selenium.webdriver.common.by import By\n",
    "from selenium.webdriver.chrome.service import Service"
   ]
  },
  {
   "cell_type": "markdown",
   "id": "c2112c4a",
   "metadata": {},
   "source": [
    "### [WebDriver](https://www.selenium.dev/documentation/webdriver/)\n",
    "\n",
    "Responsible for controlling the actual browser. Most drivers are created by the browser vendors themselves. Drivers are generally executable modules that run on the system with the browser itself, not on the system executing the test suite.\n",
    "\n",
    "\n",
    "[Install browser drivers](https://www.selenium.dev/documentation/webdriver/getting_started/install_drivers/)"
   ]
  },
  {
   "cell_type": "code",
   "execution_count": null,
   "id": "82368075",
   "metadata": {},
   "outputs": [],
   "source": [
    "path = './requirements/chromedriver.exe'\n",
    "service = Service(executable_path=path)\n",
    "driver = webdriver.Chrome(service=service)\n",
    "type(driver)"
   ]
  },
  {
   "cell_type": "markdown",
   "id": "062c1c20",
   "metadata": {},
   "source": [
    "### [Browser info & actions](https://www.selenium.dev/documentation/webdriver/browser/)\n",
    "\n",
    "You can get brower info and interact with it (i.e.: navigation, alerts, cookies, frames, windows)"
   ]
  },
  {
   "cell_type": "code",
   "execution_count": null,
   "id": "805320cd",
   "metadata": {},
   "outputs": [],
   "source": [
    "# Navigate to...\n",
    "\n",
    "driver.get('https://toogoodtogo.es/es/blog')\n",
    "driver.maximize_window()"
   ]
  },
  {
   "cell_type": "code",
   "execution_count": null,
   "id": "2b7d834e",
   "metadata": {},
   "outputs": [],
   "source": [
    "# Browser info\n",
    "\n",
    "print(driver.title)\n",
    "print(driver.current_url)"
   ]
  },
  {
   "cell_type": "code",
   "execution_count": null,
   "id": "78fc7ebe",
   "metadata": {},
   "outputs": [],
   "source": [
    "# Cookies\n",
    "\n",
    "print(driver.get_cookies())"
   ]
  },
  {
   "cell_type": "markdown",
   "id": "382aff79",
   "metadata": {},
   "source": [
    "### [Web elements](https://www.selenium.dev/documentation/webdriver/elements/)\n",
    "\n",
    "You can find, interact and extract info from web elements"
   ]
  },
  {
   "cell_type": "code",
   "execution_count": null,
   "id": "b2b477fa",
   "metadata": {},
   "outputs": [],
   "source": [
    "# Find cookies button\n",
    "\n",
    "cookie_button = driver.find_element(by=By.CLASS_NAME, value='coi-banner__decline')\n",
    "cookie_button"
   ]
  },
  {
   "cell_type": "code",
   "execution_count": null,
   "id": "f1ef4b8d",
   "metadata": {},
   "outputs": [],
   "source": [
    "# Accept cookies\n",
    "\n",
    "cookie_button.click()"
   ]
  },
  {
   "cell_type": "code",
   "execution_count": null,
   "id": "2b55b677",
   "metadata": {},
   "outputs": [],
   "source": [
    "# Find blog posts\n",
    "\n",
    "blog_posts = driver.find_elements(by=By.TAG_NAME, value='a')"
   ]
  },
  {
   "cell_type": "code",
   "execution_count": null,
   "id": "11903473",
   "metadata": {},
   "outputs": [],
   "source": [
    "# Get info from post (e.g.: url)\n",
    "\n",
    "urls = [blog_posts[i].get_attribute('href') for i in range(len(blog_posts)) if 'blog/' in blog_posts[i].get_attribute('href')]\n",
    "urls"
   ]
  },
  {
   "cell_type": "markdown",
   "id": "d57ae0f9",
   "metadata": {},
   "source": [
    "#### Now the selenium magic!!!"
   ]
  },
  {
   "cell_type": "code",
   "execution_count": null,
   "id": "5a5f435b",
   "metadata": {},
   "outputs": [],
   "source": [
    "# Click the \"Ver más\" button\n",
    "\n",
    "driver.find_elements(by=By.TAG_NAME, value=\"button\")[-1].click()"
   ]
  },
  {
   "cell_type": "code",
   "execution_count": null,
   "id": "3b35be78",
   "metadata": {},
   "outputs": [],
   "source": [
    "blog_posts = driver.find_elements(by=By.TAG_NAME, value='a')\n",
    "urls = [blog_posts[i].get_attribute('href') for i in range(len(blog_posts)) if 'blog/' in blog_posts[i].get_attribute('href')]\n",
    "len(urls)"
   ]
  },
  {
   "cell_type": "markdown",
   "id": "0de2adcc",
   "metadata": {},
   "source": [
    "---"
   ]
  },
  {
   "cell_type": "markdown",
   "id": "01ce4357",
   "metadata": {},
   "source": [
    "### Get al the posts that you need\n",
    "\n",
    "You may want to establish a [waiting strategy](https://www.selenium.dev/documentation/webdriver/waits/)"
   ]
  },
  {
   "cell_type": "code",
   "execution_count": null,
   "id": "4880512f",
   "metadata": {},
   "outputs": [],
   "source": [
    "driver.implicitly_wait(10)"
   ]
  },
  {
   "cell_type": "code",
   "execution_count": null,
   "id": "f73b2bd2",
   "metadata": {},
   "outputs": [],
   "source": [
    "%%time\n",
    "# Click the button as many times as you wish, but be careful because you can be banned!!!\n",
    "\n",
    "for click in range(100):\n",
    "    try:\n",
    "        driver.find_elements(by=By.TAG_NAME, value=\"button\")[-1].click()\n",
    "        #secs = random.randint(1,4)\n",
    "        #time.sleep(secs)\n",
    "    except:\n",
    "        print(f'You have reached the total amount of clicks: {click}')\n",
    "        break"
   ]
  },
  {
   "cell_type": "code",
   "execution_count": null,
   "id": "cb708eb1",
   "metadata": {},
   "outputs": [],
   "source": [
    "%%time\n",
    "# Get posts info\n",
    "\n",
    "blog_posts = driver.find_elements(by=By.TAG_NAME, value='a')\n",
    "\n",
    "posts = [blog_posts[i].text.split('\\n')[1] for i in range(len(blog_posts))\\\n",
    "         if '|' in blog_posts[i].text]\n",
    "\n",
    "urls = [blog_posts[i].get_attribute('href') for i in range(len(blog_posts))\\\n",
    "        if 'blog/' in blog_posts[i].get_attribute('href')]\n",
    "\n",
    "date = [blog_posts[i].text.split('\\n')[2].split(' | ')[0] for i in range(len(blog_posts))\\\n",
    "        if '|' in blog_posts[i].text]\n",
    "\n",
    "author = [blog_posts[i].text.split('\\n')[2].split(' | ')[1] for i in range(len(blog_posts))\\\n",
    "          if '|' in blog_posts[i].text]"
   ]
  },
  {
   "cell_type": "code",
   "execution_count": null,
   "id": "0b2a308f",
   "metadata": {},
   "outputs": [],
   "source": [
    "# Pandas!!!\n",
    "\n",
    "df = pd.DataFrame({'Blog Posts':posts,\n",
    "                   'Links':urls,\n",
    "                   'Fecha':date,\n",
    "                   'Autor':author}).drop_duplicates()\n",
    "\n",
    "df"
   ]
  },
  {
   "cell_type": "markdown",
   "id": "76537159",
   "metadata": {},
   "source": [
    "### End the session\n",
    "\n",
    "This ends the driver process, which by default closes the browser as well. No more commands can be sent to this driver instance."
   ]
  },
  {
   "cell_type": "code",
   "execution_count": null,
   "id": "9bb7039e",
   "metadata": {},
   "outputs": [],
   "source": [
    "driver.quit()"
   ]
  },
  {
   "cell_type": "markdown",
   "id": "14da6c17",
   "metadata": {},
   "source": [
    "### Lets build some robots!!!\n",
    "\n",
    "![robot](https://media.giphy.com/media/5YEgnkjeryvwA/giphy.gif)"
   ]
  }
 ],
 "metadata": {
  "kernelspec": {
   "display_name": "Python [conda env:.conda-ironhack]",
   "language": "python",
   "name": "conda-env-.conda-ironhack-py"
  },
  "language_info": {
   "codemirror_mode": {
    "name": "ipython",
    "version": 3
   },
   "file_extension": ".py",
   "mimetype": "text/x-python",
   "name": "python",
   "nbconvert_exporter": "python",
   "pygments_lexer": "ipython3",
   "version": "3.7.11"
  }
 },
 "nbformat": 4,
 "nbformat_minor": 5
}
