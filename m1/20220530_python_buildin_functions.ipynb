{
 "cells": [
  {
   "cell_type": "markdown",
   "id": "fbe26829",
   "metadata": {},
   "source": [
    "# Built-in Functions\n",
    "\n",
    "https://docs.python.org/3.9/library/functions.html\n",
    "\n",
    "- __enumerate(iterable, start=0)__\n",
    "    \n",
    "- __input([prompt])__\n",
    "    \n",
    "- __isinstance(object, classinfo)__\n",
    "\n",
    "- __sum(iterable[, start])__\n",
    "\n",
    "- __range(start, stop[, step])__\n",
    "\n",
    "- __map(function, iterable, ...)__"
   ]
  },
  {
   "cell_type": "code",
   "execution_count": 12,
   "id": "2a44b912",
   "metadata": {},
   "outputs": [
    {
     "data": {
      "text/plain": [
       "{'key_0': 'enumerate', 'key_1': 45, 'key_2': ('key', 'value')}"
      ]
     },
     "execution_count": 12,
     "metadata": {},
     "output_type": "execute_result"
    }
   ],
   "source": [
    "# https://docs.python.org/3.9/library/functions.html#enumerate\n",
    "\n",
    "values = ['enumerate', 45, ('key','value')]\n",
    "\n",
    "dictionary = {}\n",
    "for pepe, paco in enumerate(values):\n",
    "    if isinstance(paco, int):\n",
    "        dictionary['key_'+str(pepe)] = paco\n",
    "    \n",
    "dictionary"
   ]
  },
  {
   "cell_type": "code",
   "execution_count": 8,
   "id": "3fa9ff1d",
   "metadata": {},
   "outputs": [
    {
     "name": "stdout",
     "output_type": "stream",
     "text": [
      "<class 'enumerate'>\n"
     ]
    },
    {
     "data": {
      "text/plain": [
       "[(0, 'enumerate'), (1, 45), (2, ('key', 'value'))]"
      ]
     },
     "execution_count": 8,
     "metadata": {},
     "output_type": "execute_result"
    }
   ],
   "source": [
    "objeto = enumerate(values)\n",
    "print(type(objeto))\n",
    "list(objeto)"
   ]
  },
  {
   "cell_type": "code",
   "execution_count": 18,
   "id": "9f31673c",
   "metadata": {},
   "outputs": [
    {
     "name": "stdout",
     "output_type": "stream",
     "text": [
      "Enter a value here --> 65156\n"
     ]
    },
    {
     "data": {
      "text/plain": [
       "'The value is 65156'"
      ]
     },
     "execution_count": 18,
     "metadata": {},
     "output_type": "execute_result"
    }
   ],
   "source": [
    "# https://docs.python.org/3.9/library/functions.html#input\n",
    "\n",
    "value = input('Enter a value here --> ')\n",
    "f'The value is {value}'\n",
    "'The value is ' + value\n",
    "'The value is {}'.format(value)"
   ]
  },
  {
   "cell_type": "code",
   "execution_count": 16,
   "id": "a9f1502b",
   "metadata": {},
   "outputs": [
    {
     "data": {
      "text/plain": [
       "str"
      ]
     },
     "execution_count": 16,
     "metadata": {},
     "output_type": "execute_result"
    }
   ],
   "source": [
    "type(value)"
   ]
  },
  {
   "cell_type": "code",
   "execution_count": 19,
   "id": "65a5d1b8",
   "metadata": {},
   "outputs": [
    {
     "name": "stdout",
     "output_type": "stream",
     "text": [
      "Data type is correct\n"
     ]
    }
   ],
   "source": [
    "# https://docs.python.org/3.9/library/functions.html#isinstance\n",
    "\n",
    "value = 5\n",
    "\n",
    "if isinstance(value, int):\n",
    "    print('Data type is correct')\n",
    "else:\n",
    "    print('FATAL ERROR CALL HOUSTON ASAP!!!')"
   ]
  },
  {
   "cell_type": "code",
   "execution_count": 28,
   "id": "a96e1720",
   "metadata": {},
   "outputs": [
    {
     "data": {
      "text/plain": [
       "15"
      ]
     },
     "execution_count": 28,
     "metadata": {},
     "output_type": "execute_result"
    }
   ],
   "source": [
    "# https://docs.python.org/3.9/library/functions.html#sum\n",
    "\n",
    "my_values = [1, 2, 3, 4, 5]\n",
    "\n",
    "sum(my_values)"
   ]
  },
  {
   "cell_type": "code",
   "execution_count": 29,
   "id": "5c3dc2bb",
   "metadata": {},
   "outputs": [
    {
     "name": "stdout",
     "output_type": "stream",
     "text": [
      "400___529___676___841___1024___1225___1444___1681___1936___2209___2500___2809___3136___3481___3844___4225___4624___5041___5476___5929___6400___6889___7396___7921___8464___9025___9604___10201___10816___11449___12100___12769___13456___14161___14884___15625___16384___17161___17956___18769___19600___20449___21316___22201___23104___24025___24964___25921___26896___27889___28900___29929___30976___32041___33124___34225___35344___36481___37636___38809___"
     ]
    }
   ],
   "source": [
    "# https://docs.python.org/3.9/library/functions.html#func-range\n",
    "\n",
    "for i in range(20, 200, 3):\n",
    "    print(i * i, end='___')"
   ]
  },
  {
   "cell_type": "code",
   "execution_count": 31,
   "id": "fa5de128",
   "metadata": {},
   "outputs": [
    {
     "name": "stdout",
     "output_type": "stream",
     "text": [
      "<class 'map'>\n"
     ]
    },
    {
     "data": {
      "text/plain": [
       "[\"LET'S\", 'TAKE', 'A', 'BREAK']"
      ]
     },
     "execution_count": 31,
     "metadata": {},
     "output_type": "execute_result"
    }
   ],
   "source": [
    "# https://docs.python.org/3.9/library/functions.html#map\n",
    "\n",
    "my_words = [\"let's\", \"take\", \"a\", \"break\"]\n",
    "\n",
    "my_message = map(lambda word: word.upper(), my_words)\n",
    "print(type(my_message))\n",
    "list(my_message)"
   ]
  },
  {
   "cell_type": "code",
   "execution_count": null,
   "id": "3bc13c26",
   "metadata": {},
   "outputs": [],
   "source": []
  }
 ],
 "metadata": {
  "kernelspec": {
   "display_name": "Python [conda env:.conda-ironhack]",
   "language": "python",
   "name": "conda-env-.conda-ironhack-py"
  },
  "language_info": {
   "codemirror_mode": {
    "name": "ipython",
    "version": 3
   },
   "file_extension": ".py",
   "mimetype": "text/x-python",
   "name": "python",
   "nbconvert_exporter": "python",
   "pygments_lexer": "ipython3",
   "version": "3.7.11"
  }
 },
 "nbformat": 4,
 "nbformat_minor": 5
}
