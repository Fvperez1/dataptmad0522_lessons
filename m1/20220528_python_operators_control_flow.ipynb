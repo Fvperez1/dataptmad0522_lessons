{
 "cells": [
  {
   "cell_type": "markdown",
   "id": "fd9ae331",
   "metadata": {},
   "source": [
    "# Operators\n",
    "\n",
    "- __Arithmetic Operators__\n",
    "    \n",
    "- __Assignment Operators__\n",
    "    \n",
    "- __Comparison Operators__\n",
    "\n",
    "- __Logical Operators__\n",
    "\n",
    "- __Identity Operators__\n",
    "\n",
    "- __Membership Operators__\n"
   ]
  },
  {
   "cell_type": "code",
   "execution_count": null,
   "id": "0931eabe",
   "metadata": {},
   "outputs": [],
   "source": [
    "# Arithmetic Operators\n",
    "\n",
    "x = 5\n",
    "y = 2\n",
    "print(x + y)\n",
    "#print(x - y)\n",
    "#print(x * y)\n",
    "#print(x / y)\n",
    "#print(x % y)\n",
    "#print(x ** y)\n",
    "#print(x // y)"
   ]
  },
  {
   "cell_type": "code",
   "execution_count": null,
   "id": "6644afc6",
   "metadata": {},
   "outputs": [],
   "source": [
    "# Assignment Operators\n",
    "\n",
    "x = 5\n",
    "x"
   ]
  },
  {
   "cell_type": "code",
   "execution_count": null,
   "id": "f66d3b81",
   "metadata": {},
   "outputs": [],
   "source": [
    "x += 3 # x = x + 3\n",
    "x"
   ]
  },
  {
   "cell_type": "code",
   "execution_count": null,
   "id": "9e11ba55",
   "metadata": {},
   "outputs": [],
   "source": [
    "x -= 3 # x = x - 3\n",
    "x"
   ]
  },
  {
   "cell_type": "code",
   "execution_count": null,
   "id": "8ff2de61",
   "metadata": {},
   "outputs": [],
   "source": [
    "x *= 3 # x = x * 3\n",
    "x"
   ]
  },
  {
   "cell_type": "code",
   "execution_count": null,
   "id": "ae471b21",
   "metadata": {},
   "outputs": [],
   "source": [
    "x /= 3 # x = x / 3\n",
    "x"
   ]
  },
  {
   "cell_type": "code",
   "execution_count": null,
   "id": "b736ce42",
   "metadata": {},
   "outputs": [],
   "source": [
    "# Comparison Operators\n",
    "x = 15\n",
    "y = 16\n",
    "\n",
    "print(x == y)\n",
    "#print(x != y)\n",
    "#print(x < y)\n",
    "#print(x > y)\n",
    "#print(x <= y)\n",
    "#print(x >= y)"
   ]
  },
  {
   "cell_type": "code",
   "execution_count": null,
   "id": "51e12e45",
   "metadata": {},
   "outputs": [],
   "source": [
    "# Logical Operators (and, or, not)\n",
    "x = 6\n",
    "if x < 5 and x < 10:\n",
    "    print('True')\n",
    "else:\n",
    "    print('False')\n",
    "    \n",
    "'''\n",
    "if not(x < 5 and x < 10):\n",
    "    print('True')\n",
    "else:\n",
    "    print('False')\n",
    "'''"
   ]
  },
  {
   "cell_type": "code",
   "execution_count": null,
   "id": "9ae6c8b2",
   "metadata": {},
   "outputs": [],
   "source": [
    "# Identity Operators and Membership Operators\n",
    "\n",
    "var1 = 'ironhack'\n",
    "var2 = 'data'\n",
    "\n",
    "var1 is var2\n",
    "#var2 in var1"
   ]
  },
  {
   "cell_type": "markdown",
   "id": "646f5e8a",
   "metadata": {},
   "source": [
    "# Control Flow\n",
    "\n",
    "- __if__\n",
    "    \n",
    "- __elif__\n",
    "    \n",
    "- __else__\n",
    "\n",
    "- __for__\n",
    "\n",
    "- __while__"
   ]
  },
  {
   "cell_type": "code",
   "execution_count": null,
   "id": "802f9e5b",
   "metadata": {},
   "outputs": [],
   "source": [
    "# if, elif, else\n",
    "\n",
    "price = float(input(\"Enter a price: \"))\n",
    "quantity = int(input(\"Enter a quantity: \"))\n",
    "amount = price*quantity\n",
    "\n",
    "if amount > 100:\n",
    "    if amount > 500:\n",
    "        print(\"Amount is greater than 500\")\n",
    "    else:\n",
    "        if amount < 500 and amount > 400:\n",
    "            print(\"Amount is\")\n",
    "        elif amount < 500 and amount > 300:\n",
    "            print(\"Amount is between 300 and 500\")\n",
    "        else:\n",
    "            print(\"Amount is between 200 and 500\")\n",
    "elif amount == 100:\n",
    "    print(\"Amount is 100\")\n",
    "else:\n",
    "    print(\"Amount is less than 100\")"
   ]
  },
  {
   "cell_type": "code",
   "execution_count": null,
   "id": "1100c01e",
   "metadata": {},
   "outputs": [],
   "source": [
    "# for loop\n",
    "\n",
    "rows = 5\n",
    "# outer loop\n",
    "for i in range(rows):\n",
    "    # inner loop\n",
    "    for j in range(i + 1):\n",
    "        print(\"*\", end=\" \")\n",
    "    print('')"
   ]
  },
  {
   "cell_type": "code",
   "execution_count": 2,
   "id": "76556836",
   "metadata": {},
   "outputs": [
    {
     "name": "stdout",
     "output_type": "stream",
     "text": [
      "Ana Ana\n",
      "Fran Fran\n",
      "Angel Angel\n",
      "Jaime Jaime\n",
      "Pedro Pedro\n",
      "Elvira Elvira\n",
      "Halima Halima\n",
      "Javier Javier\n",
      "Guillaume Guillaume\n"
     ]
    }
   ],
   "source": [
    "# while loop\n",
    "\n",
    "names = ['Ana', 'Fran', 'Angel', 'Jaime', 'Pedro', 'Elvira', 'Halima', 'Javier', 'Guillaume']\n",
    "# outer loop\n",
    "for name in names:\n",
    "    # inner while loop\n",
    "    count = -10000000\n",
    "    if count < 3:\n",
    "        print(name, end=' ')\n",
    "        # increment counter\n",
    "        count += 1\n",
    "    print(name)\n"
   ]
  },
  {
   "cell_type": "code",
   "execution_count": 9,
   "id": "dffc9d8b",
   "metadata": {},
   "outputs": [
    {
     "name": "stdout",
     "output_type": "stream",
     "text": [
      "---------------------empiezo de nuevo primer loop----------------\n",
      "primer loop:  0\n",
      "segundo loop:  0\n",
      "esto es antes del break--->  0\n",
      "---------------------empiezo de nuevo primer loop----------------\n",
      "primer loop:  1\n",
      "segundo loop:  0\n",
      "1 0\n",
      "segundo loop:  1\n",
      "esto es antes del break--->  1\n",
      "---------------------empiezo de nuevo primer loop----------------\n",
      "primer loop:  2\n",
      "segundo loop:  0\n",
      "2 0\n",
      "segundo loop:  1\n",
      "2 1\n",
      "segundo loop:  2\n",
      "esto es antes del break--->  2\n",
      "---------------------empiezo de nuevo primer loop----------------\n",
      "primer loop:  3\n",
      "segundo loop:  0\n",
      "3 0\n",
      "segundo loop:  1\n",
      "3 1\n",
      "segundo loop:  2\n",
      "3 2\n",
      "segundo loop:  3\n",
      "esto es antes del break--->  3\n"
     ]
    }
   ],
   "source": [
    "# break\n",
    "\n",
    "for i in range(4):\n",
    "    print('---------------------empiezo de nuevo primer loop----------------')\n",
    "    print('primer loop: ', i)\n",
    "    for j in range(4):\n",
    "        print('segundo loop: ', j)\n",
    "        if j == i:\n",
    "            print('esto es antes del break---> ', j)\n",
    "            break\n",
    "        print(i, j)"
   ]
  },
  {
   "cell_type": "code",
   "execution_count": 11,
   "id": "db274937",
   "metadata": {},
   "outputs": [
    {
     "name": "stdout",
     "output_type": "stream",
     "text": [
      "---------------------empiezo de nuevo primer loop----------------\n",
      "primer loop:  2\n",
      "segundo loop:  2\n",
      "segundo loop:  4\n",
      "2 * 4 =  8\n",
      "segundo loop:  6\n",
      "2 * 6 =  12\n",
      "---------------------empiezo de nuevo primer loop----------------\n",
      "primer loop:  4\n",
      "segundo loop:  2\n",
      "4 * 2 =  8\n",
      "segundo loop:  4\n",
      "segundo loop:  6\n",
      "4 * 6 =  24\n",
      "---------------------empiezo de nuevo primer loop----------------\n",
      "primer loop:  6\n",
      "segundo loop:  2\n",
      "6 * 2 =  12\n",
      "segundo loop:  4\n",
      "6 * 4 =  24\n",
      "segundo loop:  6\n"
     ]
    }
   ],
   "source": [
    "# continue\n",
    "\n",
    "first = [2, 4, 6]\n",
    "second = [2, 4, 6]\n",
    "for i in first:\n",
    "    print('---------------------empiezo de nuevo primer loop----------------')\n",
    "    print('primer loop: ', i)\n",
    "    for j in second:\n",
    "        print('segundo loop: ', j)\n",
    "        if i == j:\n",
    "            continue\n",
    "        print(i, '*', j, '= ', i * j)"
   ]
  },
  {
   "cell_type": "code",
   "execution_count": null,
   "id": "1dea16ee",
   "metadata": {},
   "outputs": [],
   "source": []
  }
 ],
 "metadata": {
  "kernelspec": {
   "display_name": "Python [conda env:.conda-ironhack]",
   "language": "python",
   "name": "conda-env-.conda-ironhack-py"
  },
  "language_info": {
   "codemirror_mode": {
    "name": "ipython",
    "version": 3
   },
   "file_extension": ".py",
   "mimetype": "text/x-python",
   "name": "python",
   "nbconvert_exporter": "python",
   "pygments_lexer": "ipython3",
   "version": "3.7.11"
  }
 },
 "nbformat": 4,
 "nbformat_minor": 5
}
