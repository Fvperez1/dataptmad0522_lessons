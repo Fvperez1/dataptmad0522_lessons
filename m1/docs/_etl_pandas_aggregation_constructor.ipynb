{
 "cells": [
  {
   "cell_type": "markdown",
   "id": "98a10ec3",
   "metadata": {},
   "source": [
    "# EXTRA: Data Aggregation Constructor"
   ]
  },
  {
   "cell_type": "code",
   "execution_count": 1,
   "id": "6837c5c1",
   "metadata": {},
   "outputs": [],
   "source": [
    "import pandas as pd"
   ]
  },
  {
   "cell_type": "code",
   "execution_count": 2,
   "id": "75b3e616",
   "metadata": {},
   "outputs": [
    {
     "name": "stdout",
     "output_type": "stream",
     "text": [
      "Wall time: 25.6 s\n"
     ]
    }
   ],
   "source": [
    "%%time\n",
    "\n",
    "df = pd.read_csv('./2022T1-SER-uso-parquimetros.csv', sep=';')"
   ]
  },
  {
   "cell_type": "code",
   "execution_count": 3,
   "id": "d3b207bb",
   "metadata": {},
   "outputs": [
    {
     "data": {
      "text/html": [
       "<div>\n",
       "<style scoped>\n",
       "    .dataframe tbody tr th:only-of-type {\n",
       "        vertical-align: middle;\n",
       "    }\n",
       "\n",
       "    .dataframe tbody tr th {\n",
       "        vertical-align: top;\n",
       "    }\n",
       "\n",
       "    .dataframe thead th {\n",
       "        text-align: right;\n",
       "    }\n",
       "</style>\n",
       "<table border=\"1\" class=\"dataframe\">\n",
       "  <thead>\n",
       "    <tr style=\"text-align: right;\">\n",
       "      <th></th>\n",
       "      <th>matricula_parquimetro</th>\n",
       "      <th>fecha_operacion</th>\n",
       "      <th>fecha_inicio</th>\n",
       "      <th>fecha_fin</th>\n",
       "      <th>cod_distrito</th>\n",
       "      <th>distrito</th>\n",
       "      <th>cod_barrio</th>\n",
       "      <th>barrio</th>\n",
       "      <th>tipo_zona</th>\n",
       "      <th>distintivo</th>\n",
       "      <th>minutos_tique</th>\n",
       "      <th>importe_tique</th>\n",
       "    </tr>\n",
       "  </thead>\n",
       "  <tbody>\n",
       "    <tr>\n",
       "      <th>0</th>\n",
       "      <td>703130002</td>\n",
       "      <td>2022-02-23 20:26:24</td>\n",
       "      <td>2022-02-23 20:26:24</td>\n",
       "      <td>2022-02-24 11:00:24</td>\n",
       "      <td>3</td>\n",
       "      <td>RETIRO</td>\n",
       "      <td>1</td>\n",
       "      <td>PACÍFICO</td>\n",
       "      <td>AZUL</td>\n",
       "      <td>ECO</td>\n",
       "      <td>154</td>\n",
       "      <td>1,00</td>\n",
       "    </tr>\n",
       "    <tr>\n",
       "      <th>1</th>\n",
       "      <td>302230080</td>\n",
       "      <td>2022-03-03 17:21:30</td>\n",
       "      <td>2022-03-03 17:21:30</td>\n",
       "      <td>2022-03-03 17:42:30</td>\n",
       "      <td>2</td>\n",
       "      <td>ARGANZUELA</td>\n",
       "      <td>2</td>\n",
       "      <td>ACACIAS</td>\n",
       "      <td>VERDE</td>\n",
       "      <td>C</td>\n",
       "      <td>21</td>\n",
       "      <td>0,50</td>\n",
       "    </tr>\n",
       "    <tr>\n",
       "      <th>2</th>\n",
       "      <td>703130050</td>\n",
       "      <td>2022-03-10 08:54:11</td>\n",
       "      <td>2022-03-10 09:00:00</td>\n",
       "      <td>2022-03-10 13:00:00</td>\n",
       "      <td>3</td>\n",
       "      <td>RETIRO</td>\n",
       "      <td>1</td>\n",
       "      <td>PACÍFICO</td>\n",
       "      <td>AZUL</td>\n",
       "      <td>B</td>\n",
       "      <td>240</td>\n",
       "      <td>9,85</td>\n",
       "    </tr>\n",
       "    <tr>\n",
       "      <th>3</th>\n",
       "      <td>APP-MOVIL</td>\n",
       "      <td>2022-01-22 11:30:57</td>\n",
       "      <td>2022-01-22 11:30:55</td>\n",
       "      <td>2022-01-22 11:44:55</td>\n",
       "      <td>2</td>\n",
       "      <td>ARGANZUELA</td>\n",
       "      <td>6</td>\n",
       "      <td>PALOS DE MOGUER</td>\n",
       "      <td>VERDE</td>\n",
       "      <td>C</td>\n",
       "      <td>14</td>\n",
       "      <td>0,30</td>\n",
       "    </tr>\n",
       "    <tr>\n",
       "      <th>4</th>\n",
       "      <td>APP-MOVIL</td>\n",
       "      <td>2022-02-17 11:59:48</td>\n",
       "      <td>2022-02-17 11:59:47</td>\n",
       "      <td>2022-02-17 13:04:47</td>\n",
       "      <td>5</td>\n",
       "      <td>CHAMARTIN</td>\n",
       "      <td>3</td>\n",
       "      <td>CIUDAD JARDÍN</td>\n",
       "      <td>AZUL</td>\n",
       "      <td>ECO</td>\n",
       "      <td>65</td>\n",
       "      <td>0,30</td>\n",
       "    </tr>\n",
       "  </tbody>\n",
       "</table>\n",
       "</div>"
      ],
      "text/plain": [
       "  matricula_parquimetro      fecha_operacion         fecha_inicio  \\\n",
       "0             703130002  2022-02-23 20:26:24  2022-02-23 20:26:24   \n",
       "1             302230080  2022-03-03 17:21:30  2022-03-03 17:21:30   \n",
       "2             703130050  2022-03-10 08:54:11  2022-03-10 09:00:00   \n",
       "3             APP-MOVIL  2022-01-22 11:30:57  2022-01-22 11:30:55   \n",
       "4             APP-MOVIL  2022-02-17 11:59:48  2022-02-17 11:59:47   \n",
       "\n",
       "             fecha_fin  cod_distrito    distrito  cod_barrio           barrio  \\\n",
       "0  2022-02-24 11:00:24             3      RETIRO           1         PACÍFICO   \n",
       "1  2022-03-03 17:42:30             2  ARGANZUELA           2          ACACIAS   \n",
       "2  2022-03-10 13:00:00             3      RETIRO           1         PACÍFICO   \n",
       "3  2022-01-22 11:44:55             2  ARGANZUELA           6  PALOS DE MOGUER   \n",
       "4  2022-02-17 13:04:47             5   CHAMARTIN           3    CIUDAD JARDÍN   \n",
       "\n",
       "  tipo_zona distintivo  minutos_tique importe_tique  \n",
       "0      AZUL        ECO            154          1,00  \n",
       "1     VERDE          C             21          0,50  \n",
       "2      AZUL          B            240          9,85  \n",
       "3     VERDE          C             14          0,30  \n",
       "4      AZUL        ECO             65          0,30  "
      ]
     },
     "execution_count": 3,
     "metadata": {},
     "output_type": "execute_result"
    }
   ],
   "source": [
    "df.head()"
   ]
  },
  {
   "cell_type": "code",
   "execution_count": 4,
   "id": "901809b9",
   "metadata": {},
   "outputs": [
    {
     "name": "stdout",
     "output_type": "stream",
     "text": [
      "<class 'pandas.core.frame.DataFrame'>\n",
      "RangeIndex: 10725775 entries, 0 to 10725774\n",
      "Data columns (total 12 columns):\n",
      " #   Column                 Dtype \n",
      "---  ------                 ----- \n",
      " 0   matricula_parquimetro  object\n",
      " 1   fecha_operacion        object\n",
      " 2   fecha_inicio           object\n",
      " 3   fecha_fin              object\n",
      " 4   cod_distrito           int64 \n",
      " 5   distrito               object\n",
      " 6   cod_barrio             int64 \n",
      " 7   barrio                 object\n",
      " 8   tipo_zona              object\n",
      " 9   distintivo             object\n",
      " 10  minutos_tique          int64 \n",
      " 11  importe_tique          object\n",
      "dtypes: int64(3), object(9)\n",
      "memory usage: 982.0+ MB\n"
     ]
    }
   ],
   "source": [
    "df.info()"
   ]
  },
  {
   "cell_type": "code",
   "execution_count": 5,
   "id": "119805f7",
   "metadata": {},
   "outputs": [
    {
     "data": {
      "text/plain": [
       "matricula_parquimetro    0\n",
       "fecha_operacion          0\n",
       "fecha_inicio             0\n",
       "fecha_fin                0\n",
       "cod_distrito             0\n",
       "distrito                 6\n",
       "cod_barrio               0\n",
       "barrio                   0\n",
       "tipo_zona                0\n",
       "distintivo               0\n",
       "minutos_tique            0\n",
       "importe_tique            0\n",
       "dtype: int64"
      ]
     },
     "execution_count": 5,
     "metadata": {},
     "output_type": "execute_result"
    }
   ],
   "source": [
    "df.isnull().sum()"
   ]
  },
  {
   "cell_type": "code",
   "execution_count": 6,
   "id": "95b25a3c",
   "metadata": {},
   "outputs": [],
   "source": [
    "df['importe_tique'] = df['importe_tique'].str.replace(',', '.').astype('float64')"
   ]
  },
  {
   "cell_type": "code",
   "execution_count": 7,
   "id": "0c6d8066",
   "metadata": {},
   "outputs": [
    {
     "data": {
      "text/html": [
       "<div>\n",
       "<style scoped>\n",
       "    .dataframe tbody tr th:only-of-type {\n",
       "        vertical-align: middle;\n",
       "    }\n",
       "\n",
       "    .dataframe tbody tr th {\n",
       "        vertical-align: top;\n",
       "    }\n",
       "\n",
       "    .dataframe thead th {\n",
       "        text-align: right;\n",
       "    }\n",
       "</style>\n",
       "<table border=\"1\" class=\"dataframe\">\n",
       "  <thead>\n",
       "    <tr style=\"text-align: right;\">\n",
       "      <th></th>\n",
       "      <th>cod_distrito</th>\n",
       "      <th>distrito</th>\n",
       "    </tr>\n",
       "  </thead>\n",
       "  <tbody>\n",
       "    <tr>\n",
       "      <th>0</th>\n",
       "      <td>1</td>\n",
       "      <td>CENTRO</td>\n",
       "    </tr>\n",
       "    <tr>\n",
       "      <th>1</th>\n",
       "      <td>2</td>\n",
       "      <td>ARGANZUELA</td>\n",
       "    </tr>\n",
       "    <tr>\n",
       "      <th>2</th>\n",
       "      <td>3</td>\n",
       "      <td>RETIRO</td>\n",
       "    </tr>\n",
       "    <tr>\n",
       "      <th>3</th>\n",
       "      <td>4</td>\n",
       "      <td>SALAMANCA</td>\n",
       "    </tr>\n",
       "    <tr>\n",
       "      <th>4</th>\n",
       "      <td>5</td>\n",
       "      <td>CHAMARTIN</td>\n",
       "    </tr>\n",
       "  </tbody>\n",
       "</table>\n",
       "</div>"
      ],
      "text/plain": [
       "   cod_distrito    distrito\n",
       "0             1      CENTRO\n",
       "1             2  ARGANZUELA\n",
       "2             3      RETIRO\n",
       "3             4   SALAMANCA\n",
       "4             5   CHAMARTIN"
      ]
     },
     "execution_count": 7,
     "metadata": {},
     "output_type": "execute_result"
    }
   ],
   "source": [
    "df_distritos = df[['cod_distrito', 'distrito']].drop_duplicates().sort_values(by='cod_distrito').reset_index(drop=True)\n",
    "df_distritos.head()"
   ]
  },
  {
   "cell_type": "code",
   "execution_count": 8,
   "id": "f004dfcf",
   "metadata": {},
   "outputs": [
    {
     "data": {
      "text/html": [
       "<div>\n",
       "<style scoped>\n",
       "    .dataframe tbody tr th:only-of-type {\n",
       "        vertical-align: middle;\n",
       "    }\n",
       "\n",
       "    .dataframe tbody tr th {\n",
       "        vertical-align: top;\n",
       "    }\n",
       "\n",
       "    .dataframe thead th {\n",
       "        text-align: right;\n",
       "    }\n",
       "</style>\n",
       "<table border=\"1\" class=\"dataframe\">\n",
       "  <thead>\n",
       "    <tr style=\"text-align: right;\">\n",
       "      <th></th>\n",
       "      <th>cod_distrito</th>\n",
       "      <th>cod_barrio</th>\n",
       "      <th>barrio</th>\n",
       "    </tr>\n",
       "  </thead>\n",
       "  <tbody>\n",
       "    <tr>\n",
       "      <th>0</th>\n",
       "      <td>1</td>\n",
       "      <td>1</td>\n",
       "      <td>PALACIO</td>\n",
       "    </tr>\n",
       "    <tr>\n",
       "      <th>1</th>\n",
       "      <td>1</td>\n",
       "      <td>2</td>\n",
       "      <td>EMBAJADORES</td>\n",
       "    </tr>\n",
       "    <tr>\n",
       "      <th>2</th>\n",
       "      <td>1</td>\n",
       "      <td>3</td>\n",
       "      <td>CORTES</td>\n",
       "    </tr>\n",
       "    <tr>\n",
       "      <th>3</th>\n",
       "      <td>1</td>\n",
       "      <td>4</td>\n",
       "      <td>JUSTICIA</td>\n",
       "    </tr>\n",
       "    <tr>\n",
       "      <th>4</th>\n",
       "      <td>1</td>\n",
       "      <td>5</td>\n",
       "      <td>UNIVERSIDAD</td>\n",
       "    </tr>\n",
       "  </tbody>\n",
       "</table>\n",
       "</div>"
      ],
      "text/plain": [
       "   cod_distrito  cod_barrio       barrio\n",
       "0             1           1      PALACIO\n",
       "1             1           2  EMBAJADORES\n",
       "2             1           3       CORTES\n",
       "3             1           4     JUSTICIA\n",
       "4             1           5  UNIVERSIDAD"
      ]
     },
     "execution_count": 8,
     "metadata": {},
     "output_type": "execute_result"
    }
   ],
   "source": [
    "df_barrios = df[['cod_distrito', 'cod_barrio', 'barrio']].drop_duplicates()\\\n",
    ".sort_values(by=['cod_distrito', 'cod_barrio']).reset_index(drop=True)\n",
    "df_barrios.head()"
   ]
  },
  {
   "cell_type": "code",
   "execution_count": 9,
   "id": "3da735b5",
   "metadata": {},
   "outputs": [
    {
     "data": {
      "text/html": [
       "<div>\n",
       "<style scoped>\n",
       "    .dataframe tbody tr th:only-of-type {\n",
       "        vertical-align: middle;\n",
       "    }\n",
       "\n",
       "    .dataframe tbody tr th {\n",
       "        vertical-align: top;\n",
       "    }\n",
       "\n",
       "    .dataframe thead th {\n",
       "        text-align: right;\n",
       "    }\n",
       "</style>\n",
       "<table border=\"1\" class=\"dataframe\">\n",
       "  <thead>\n",
       "    <tr style=\"text-align: right;\">\n",
       "      <th></th>\n",
       "      <th>matricula_parquimetro</th>\n",
       "      <th>fecha_operacion</th>\n",
       "      <th>fecha_inicio</th>\n",
       "      <th>fecha_fin</th>\n",
       "      <th>cod_distrito</th>\n",
       "      <th>cod_barrio</th>\n",
       "      <th>tipo_zona</th>\n",
       "      <th>distintivo</th>\n",
       "      <th>minutos_tique</th>\n",
       "      <th>importe_tique</th>\n",
       "    </tr>\n",
       "  </thead>\n",
       "  <tbody>\n",
       "    <tr>\n",
       "      <th>0</th>\n",
       "      <td>703130002</td>\n",
       "      <td>2022-02-23 20:26:24</td>\n",
       "      <td>2022-02-23 20:26:24</td>\n",
       "      <td>2022-02-24 11:00:24</td>\n",
       "      <td>3</td>\n",
       "      <td>1</td>\n",
       "      <td>AZUL</td>\n",
       "      <td>ECO</td>\n",
       "      <td>154</td>\n",
       "      <td>1.00</td>\n",
       "    </tr>\n",
       "    <tr>\n",
       "      <th>1</th>\n",
       "      <td>302230080</td>\n",
       "      <td>2022-03-03 17:21:30</td>\n",
       "      <td>2022-03-03 17:21:30</td>\n",
       "      <td>2022-03-03 17:42:30</td>\n",
       "      <td>2</td>\n",
       "      <td>2</td>\n",
       "      <td>VERDE</td>\n",
       "      <td>C</td>\n",
       "      <td>21</td>\n",
       "      <td>0.50</td>\n",
       "    </tr>\n",
       "    <tr>\n",
       "      <th>2</th>\n",
       "      <td>703130050</td>\n",
       "      <td>2022-03-10 08:54:11</td>\n",
       "      <td>2022-03-10 09:00:00</td>\n",
       "      <td>2022-03-10 13:00:00</td>\n",
       "      <td>3</td>\n",
       "      <td>1</td>\n",
       "      <td>AZUL</td>\n",
       "      <td>B</td>\n",
       "      <td>240</td>\n",
       "      <td>9.85</td>\n",
       "    </tr>\n",
       "    <tr>\n",
       "      <th>3</th>\n",
       "      <td>APP-MOVIL</td>\n",
       "      <td>2022-01-22 11:30:57</td>\n",
       "      <td>2022-01-22 11:30:55</td>\n",
       "      <td>2022-01-22 11:44:55</td>\n",
       "      <td>2</td>\n",
       "      <td>6</td>\n",
       "      <td>VERDE</td>\n",
       "      <td>C</td>\n",
       "      <td>14</td>\n",
       "      <td>0.30</td>\n",
       "    </tr>\n",
       "    <tr>\n",
       "      <th>4</th>\n",
       "      <td>APP-MOVIL</td>\n",
       "      <td>2022-02-17 11:59:48</td>\n",
       "      <td>2022-02-17 11:59:47</td>\n",
       "      <td>2022-02-17 13:04:47</td>\n",
       "      <td>5</td>\n",
       "      <td>3</td>\n",
       "      <td>AZUL</td>\n",
       "      <td>ECO</td>\n",
       "      <td>65</td>\n",
       "      <td>0.30</td>\n",
       "    </tr>\n",
       "  </tbody>\n",
       "</table>\n",
       "</div>"
      ],
      "text/plain": [
       "  matricula_parquimetro      fecha_operacion         fecha_inicio  \\\n",
       "0             703130002  2022-02-23 20:26:24  2022-02-23 20:26:24   \n",
       "1             302230080  2022-03-03 17:21:30  2022-03-03 17:21:30   \n",
       "2             703130050  2022-03-10 08:54:11  2022-03-10 09:00:00   \n",
       "3             APP-MOVIL  2022-01-22 11:30:57  2022-01-22 11:30:55   \n",
       "4             APP-MOVIL  2022-02-17 11:59:48  2022-02-17 11:59:47   \n",
       "\n",
       "             fecha_fin  cod_distrito  cod_barrio tipo_zona distintivo  \\\n",
       "0  2022-02-24 11:00:24             3           1      AZUL        ECO   \n",
       "1  2022-03-03 17:42:30             2           2     VERDE          C   \n",
       "2  2022-03-10 13:00:00             3           1      AZUL          B   \n",
       "3  2022-01-22 11:44:55             2           6     VERDE          C   \n",
       "4  2022-02-17 13:04:47             5           3      AZUL        ECO   \n",
       "\n",
       "   minutos_tique  importe_tique  \n",
       "0            154           1.00  \n",
       "1             21           0.50  \n",
       "2            240           9.85  \n",
       "3             14           0.30  \n",
       "4             65           0.30  "
      ]
     },
     "execution_count": 9,
     "metadata": {},
     "output_type": "execute_result"
    }
   ],
   "source": [
    "drop_cols = ['distrito', 'barrio']\n",
    "df_small = df.drop(drop_cols, axis=1)\n",
    "df_small.head()"
   ]
  },
  {
   "cell_type": "code",
   "execution_count": 10,
   "id": "19432eb8",
   "metadata": {},
   "outputs": [],
   "source": [
    "df_barrios.to_csv('./barrios.csv', sep='\\t', index=False)"
   ]
  },
  {
   "cell_type": "code",
   "execution_count": 11,
   "id": "29b1b3f7",
   "metadata": {},
   "outputs": [],
   "source": [
    "df_distritos.to_csv('./distritos.csv', sep='\\t', index=False)"
   ]
  },
  {
   "cell_type": "code",
   "execution_count": 12,
   "id": "f3de0026",
   "metadata": {},
   "outputs": [
    {
     "name": "stdout",
     "output_type": "stream",
     "text": [
      "Wall time: 39 s\n"
     ]
    }
   ],
   "source": [
    "%%time\n",
    "\n",
    "df_small.to_csv('./tickets_parking.csv', index=False)"
   ]
  },
  {
   "cell_type": "code",
   "execution_count": 13,
   "id": "0f6e2947",
   "metadata": {},
   "outputs": [
    {
     "name": "stdout",
     "output_type": "stream",
     "text": [
      "Wall time: 12 s\n"
     ]
    }
   ],
   "source": [
    "%%time\n",
    "\n",
    "df_small.to_parquet('./tickets_parking.parquet')"
   ]
  },
  {
   "cell_type": "markdown",
   "id": "e5c2bc8e",
   "metadata": {},
   "source": [
    "---"
   ]
  }
 ],
 "metadata": {
  "kernelspec": {
   "display_name": "Python [conda env:.conda-ironhack]",
   "language": "python",
   "name": "conda-env-.conda-ironhack-py"
  },
  "language_info": {
   "codemirror_mode": {
    "name": "ipython",
    "version": 3
   },
   "file_extension": ".py",
   "mimetype": "text/x-python",
   "name": "python",
   "nbconvert_exporter": "python",
   "pygments_lexer": "ipython3",
   "version": "3.7.11"
  }
 },
 "nbformat": 4,
 "nbformat_minor": 5
}
